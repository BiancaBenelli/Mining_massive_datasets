{
 "cells": [
  {
   "attachments": {},
   "cell_type": "markdown",
   "metadata": {},
   "source": [
    "# Finding frequent itemsets with the Apriori algorithm\n",
    "\n",
    "In this notebook we will see a simple implementation of the Apriori algorithm using only Python data types (*list, dictionary, tuple*).\n",
    "\n",
    "We assume that:\n",
    "- The item identifiers are integers;\n",
    "- The input file contains a set of baskets, one basket per line;\n",
    "- each item within a basket is separated by comma \",\"\n",
    "\n",
    "An example is:\n",
    "```text\n",
    "1,2,3,4\n",
    "1,2,5\n",
    "4,6,8,10,22,16\n",
    "```\n",
    "Each line contains a basket, each basket contains a set of items!\n",
    "\n",
    "The other required input is the **support**, expressed as fraction of the total number of baskets (since we do not know how many baskets our dataset will contain).\n"
   ]
  },
  {
   "attachments": {},
   "cell_type": "markdown",
   "metadata": {},
   "source": [
    "## Loading the data\n",
    "\n",
    "\n",
    "We first define the function to load the data -> we can do this because the dataset is small. If teh dataset doesn't fit into the memory, I read the file line by line.\n",
    "\n",
    "We put each line in a list, so the whole dataset will be a list of lists."
   ]
  },
  {
   "cell_type": "code",
   "execution_count": 235,
   "metadata": {},
   "outputs": [],
   "source": [
    "def load_data(filename):\n",
    "    # Start with empty list\n",
    "    input_lines = []\n",
    "    # Read line by line and split (= create a list and put each list as a string element of that list)\n",
    "    raw_lines = open(filename, 'r').read().splitlines()\n",
    "    # Then, turn the string into a list\n",
    "    for line in raw_lines:\n",
    "        # Take the line, split it and use a comma as a separator -> each element of the list is a string, since it comes from a string,\n",
    "        # so I transform the elements into integers before putting them in the list\n",
    "        input_lines.append([int(x) for x in line.split(',')])\n",
    "        # Now I have a list of lists\n",
    "    return input_lines\n",
    "\n",
    "# My datasets is a file made by set of items divided by commas -> I want to transform it into a Python data structure, in this case a LIST.\n",
    "# Each basket becomes a list and the collection of all of them is put into a bigger List\n",
    "# The result is a LIST OF LISTS!\n",
    "\n",
    "# First step: read the file, create a list of which element is a line=string\n",
    "# Second step: split the line and create from that a list (=set of integers)"
   ]
  },
  {
   "cell_type": "markdown",
   "metadata": {},
   "source": [
    "The input file containing the dataset is called \"1-baskets.txt\".\n",
    "\n",
    "Run the following cell if you are using Colab and you want to mount your google drive as data repository"
   ]
  },
  {
   "cell_type": "code",
   "execution_count": 236,
   "metadata": {},
   "outputs": [],
   "source": [
    "#from google.colab import drive\n",
    "#drive.mount('/content/drive')"
   ]
  },
  {
   "cell_type": "markdown",
   "metadata": {},
   "source": [
    "If you then want to read a file, then call:\n",
    "```python\n",
    "input_file = \"/content/drive/My Drive/...\"\n",
    "```"
   ]
  },
  {
   "cell_type": "markdown",
   "metadata": {},
   "source": [
    "Let's load our dataset and print the first 5 lines (baskets)"
   ]
  },
  {
   "cell_type": "code",
   "execution_count": 237,
   "metadata": {},
   "outputs": [
    {
     "name": "stdout",
     "output_type": "stream",
     "text": [
      "[1, 2, 3, 4, 5, 6, 7, 14]\n",
      "[1, 2, 8, 12, 14, 15, 19, 20]\n",
      "[1, 2, 3, 4, 5, 6, 9, 12, 14, 15, 16, 18]\n",
      "[1, 2, 3, 4, 5, 6, 8, 14, 15, 16, 18]\n"
     ]
    }
   ],
   "source": [
    "#input_file = \"[PATH]/1-baskets.txt\"\n",
    "input_file = \"./1_baskets.txt\"\n",
    "\n",
    "dataset = load_data(input_file)\n",
    "\n",
    "for elem in dataset[:4]:\n",
    "    print(elem)\n",
    "# The dataset is loaded into the RAM now :)"
   ]
  },
  {
   "attachments": {},
   "cell_type": "markdown",
   "metadata": {},
   "source": [
    "### Exploratory Analysis\n",
    "I can do a bit of Exploratory analysis before applying my A-Priori algorithm -> I don't consider a threshold yet!"
   ]
  },
  {
   "cell_type": "code",
   "execution_count": 238,
   "metadata": {},
   "outputs": [
    {
     "name": "stdout",
     "output_type": "stream",
     "text": [
      "39\n"
     ]
    }
   ],
   "source": [
    "print(len(dataset))\n",
    "# Since each element in the list is a basket, the length of the dataset tells me how many baskets I have"
   ]
  },
  {
   "cell_type": "code",
   "execution_count": 239,
   "metadata": {},
   "outputs": [
    {
     "name": "stdout",
     "output_type": "stream",
     "text": [
      "Numbers of distinctive items: 20\n"
     ]
    }
   ],
   "source": [
    "# How many items do I have? In how many baskets do these items appear?\n",
    "\n",
    "# Create an empty dictionary\n",
    "items = {}\n",
    "for basket in dataset:\n",
    "    # I consider each item in each basket\n",
    "    for item in basket:\n",
    "        # If the identifier of item is already in my dict\n",
    "        if item in items:\n",
    "            # Update the dict\n",
    "            items[item] += 1\n",
    "        else:\n",
    "            # Create a new entry in the dict\n",
    "            items[item] = 1\n",
    "print(\"Numbers of distinctive items:\", len(items))"
   ]
  },
  {
   "cell_type": "code",
   "execution_count": 240,
   "metadata": {},
   "outputs": [
    {
     "data": {
      "image/png": "[encoded data removed]",
      "text/plain": [
       "<Figure size 640x480 with 1 Axes>"
      ]
     },
     "metadata": {},
     "output_type": "display_data"
    }
   ],
   "source": [
    "# I create a plot of these results\n",
    "import matplotlib.pyplot as plt\n",
    "# I want a descending order, that's why I have the lambda\n",
    "sorted_items = sorted(items.values(), key = lambda x: -x)\n",
    "plt.plot(range(len(sorted_items)), sorted_items, \"-o\")\n",
    "plt.xlabel(\"Item order\")\n",
    "plt.ylabel(\"Numbber of baskets\")\n",
    "plt.grid()\n",
    "plt.show()\n",
    "# I created a (normalized) distribution of the frequency of the different items -> it's useful to DEFINE MY THRESHOLD"
   ]
  },
  {
   "cell_type": "markdown",
   "metadata": {},
   "source": [
    "## First pass\n",
    "\n",
    "In the first pass, we filter the frequet single items.\n",
    "\n",
    "We will use a dictionary to keep track of the items and their counts -- this is the complete set of items, called **C1**. We then we filter the dictionary to remove items not sufficently frequent -- in this way we obtain the frequent items **L1**."
   ]
  },
  {
   "cell_type": "code",
   "execution_count": 241,
   "metadata": {},
   "outputs": [],
   "source": [
    "# I buil the items and filter out the ones under the threshold\n",
    "def createL1(dataset, support): #L1 is from the slides, support is the support threshold expressed in %\n",
    "    # Start with empty dict\n",
    "    freq_items = {}\n",
    "    # I build the set of items with the numbers of baskets in which these items appears\n",
    "    for basket in dataset:\n",
    "        for item in basket:\n",
    "            # If the item is in the dict, I update the counter\n",
    "            if item in freq_items:\n",
    "                freq_items[item] += 1\n",
    "            # If the item is not in the dict, I start the counter\n",
    "            else:\n",
    "                freq_items[item] = 1\n",
    "\n",
    "    # HOW TO CORRECTLY DELETE ELEMENTS IN A DICT DUE TO A CONDITION\n",
    "    # Remove non frequent items -> items that do not appear enough time in the baskets\n",
    "    support = support * len(dataset)  #len(data) returns the number of baskets\n",
    "    # In a new structure I keep the keys in which the threshold is not met\n",
    "    delete = [item for item in freq_items if freq_items[item] < support] # for each item in the frequent items if the value is less than the support, store it in a  list\n",
    "    # I delete the entries I memorized above\n",
    "    for item in delete: \n",
    "        # Delete elements in the dict\n",
    "        del freq_items[item]\n",
    "    \n",
    "    # Now the dic has only the frequent items\n",
    "    return freq_items"
   ]
  },
  {
   "cell_type": "markdown",
   "metadata": {},
   "source": [
    "We are now ready to obtain the frequent items: we show the dictionary (i.e., the count for each item), and then we use only the keys and put them in a list."
   ]
  },
  {
   "cell_type": "code",
   "execution_count": 242,
   "metadata": {},
   "outputs": [
    {
     "name": "stdout",
     "output_type": "stream",
     "text": [
      "The frequent items with their counts are:\n",
      " {1: 39, 2: 35, 3: 30, 4: 31, 5: 31, 6: 24, 14: 36, 15: 24}\n",
      "After 15, the elemets appear in less than 24 baskets = below the threshold.\n",
      "\n",
      "\n",
      "The frequent items (L1) are: [1, 2, 3, 4, 5, 6, 14, 15]\n"
     ]
    }
   ],
   "source": [
    "support = 0.5 # 50%\n",
    "freq_item = createL1(dataset, support)\n",
    "# I print it since the dataset is small\n",
    "print(\"The frequent items with their counts are:\\n\", freq_item)\n",
    "print(\"After 15, the elemets appear in less than 24 baskets = below the threshold.\")\n",
    "\n",
    "freq_item_keys = sorted(list(freq_item.keys()))\n",
    "print(\"\\n\\nThe frequent items (L1) are:\", freq_item_keys)\n"
   ]
  },
  {
   "cell_type": "markdown",
   "metadata": {},
   "source": [
    "## Naive algorithm \n",
    "\n",
    "Assuming we did not do the first pass, but we would like to find the pairs directly, with a single pass. Let's compute how much memory we need (we will compare the value with the second pass of the Apriori algorithm).\n",
    "\n",
    "In ordert to count how many times a pair occurs, we use a dictionay, where the key is the pair. Since dictionary keys must be immutable, the pair are represented with a **tuple**. "
   ]
  },
  {
   "cell_type": "code",
   "execution_count": 243,
   "metadata": {},
   "outputs": [],
   "source": [
    "import sys  # Used in computing the byte size\n",
    "\n",
    "# I get the pairs by reading the dataset itself\n",
    "# Instead of getting rid of non freq. items, every time I read a basket I consider the possibe pairs of the whole baskets\n",
    "def createL2_naive(dataset, support):\n",
    "    freq_itemset = {}\n",
    "    for basket in dataset:\n",
    "        sorted(basket)\n",
    "        len_basket = len(basket)\n",
    "        for i in range(len_basket):\n",
    "            for j in range(i+1, len_basket):\n",
    "                pair_tuple = (basket[i],basket[j])\n",
    "                if pair_tuple in freq_itemset:\n",
    "                    freq_itemset[pair_tuple] +=1\n",
    "                else:\n",
    "                    freq_itemset[pair_tuple] =1\n",
    "    # At this point, freq_itemset contains all the pairs:\n",
    "    # This is the maximum space used by this method\n",
    "    byte_size = sys.getsizeof(freq_itemset) # How big is my datastructure\n",
    "                    \n",
    "    # Remove non frequent items\n",
    "    support = support*len(dataset) \n",
    "    delete = [item for item in freq_itemset if freq_itemset[item] < support]\n",
    "    for item in delete: \n",
    "        del freq_itemset[item]\n",
    "    \n",
    "    return freq_itemset, byte_size"
   ]
  },
  {
   "cell_type": "markdown",
   "metadata": {},
   "source": [
    "We can obtain the frequent pairs (we show the dictionary, i.e., the count for each pair), along with the maximum memory used."
   ]
  },
  {
   "cell_type": "code",
   "execution_count": 244,
   "metadata": {},
   "outputs": [
    {
     "name": "stdout",
     "output_type": "stream",
     "text": [
      "The frequent pairs with thier counts are:\n",
      " {(1, 2): 35, (1, 3): 30, (1, 4): 31, (1, 5): 31, (1, 6): 24, (1, 14): 36, (2, 3): 27, (2, 4): 28, (2, 5): 27, (2, 6): 22, (2, 14): 32, (3, 4): 24, (3, 5): 23, (3, 6): 20, (3, 14): 27, (4, 5): 25, (4, 6): 20, (4, 14): 28, (5, 6): 21, (5, 14): 28, (6, 14): 21, (1, 15): 24, (2, 15): 21, (14, 15): 22}\n",
      "The memory used with the naive approach is (bytes):  9312\n"
     ]
    }
   ],
   "source": [
    "freq_pair_naive, naive_size = createL2_naive(dataset, support)\n",
    "print(\"The frequent pairs with thier counts are:\\n\", freq_pair_naive)\n",
    "print(\"The memory used with the naive approach is (bytes): \", naive_size)\n",
    "# It takes up more space"
   ]
  },
  {
   "cell_type": "markdown",
   "metadata": {},
   "source": [
    "## Second pass\n",
    "\n",
    "With the second pass, for each basket, we first remove non frequent items, then we build all the pairs. In addition to the dataset, we need to pass the L1 list (a list of item idenfitiers, not their counts).\n",
    "\n",
    "In ordert to count how many times a pair occurs, we use a dictionay, where the key is the pair. Since dictionary keys must be immutable, the pair are represented with a **tuple**. \n",
    "\n",
    "With this pass, we directly compute **L2**."
   ]
  },
  {
   "cell_type": "code",
   "execution_count": 245,
   "metadata": {},
   "outputs": [],
   "source": [
    "import sys\n",
    "\n",
    "# I read again the whole dataset\n",
    "def createL2(dataset, L1, support):\n",
    "    # An empty dict, now the keys are the pairs and the value is the number of baskets they appear in\n",
    "    freq_itemset = {}\n",
    "    for basket in dataset:\n",
    "        # I consider the potential pairs starting from the FREQUENT items! I remove the non freq. items\n",
    "        filtered_basket = []\n",
    "        # Check each item\n",
    "        for item in basket:\n",
    "            # Actual check\n",
    "            if item in L1:\n",
    "                filtered_basket.append(item)\n",
    "        # Generate couples\n",
    "        # I sort my freq items\n",
    "        sorted(filtered_basket)\n",
    "        # Check how many elements I have\n",
    "        len_basket = len(filtered_basket)\n",
    "        for i in range(len_basket):\n",
    "            for j in range(i+1, len_basket):\n",
    "                # The pairs are saved in tuples -> immutable lists\n",
    "                # They are keys of my dict, so they must be immutable (that's why I use tuple)\n",
    "                pair_tuple = (filtered_basket[i],filtered_basket[j])\n",
    "                # Check if tuple is in my dict\n",
    "                if pair_tuple in freq_itemset:\n",
    "                    # Update\n",
    "                    freq_itemset[pair_tuple] +=1\n",
    "                else:\n",
    "                    # Create\n",
    "                    freq_itemset[pair_tuple] =1\n",
    "    # The freq_itemset contains all the pairs built from freq items\n",
    "    \n",
    "    # This is the maximum space used by this method: amount of memory used to count how many possible frequent pairs there are\n",
    "    byte_size = sys.getsizeof(freq_itemset)\n",
    "                    \n",
    "    # Remove non frequent itemset as above!\n",
    "    support = support*len(dataset) # len(data) returns the number of baskets\n",
    "    delete = [item for item in freq_itemset if freq_itemset[item] < support]\n",
    "    for item in delete: \n",
    "        del freq_itemset[item]\n",
    "    \n",
    "    return freq_itemset, byte_size"
   ]
  },
  {
   "cell_type": "markdown",
   "metadata": {},
   "source": [
    "We are now ready to obtain the frequent pairs (we show the dictionary, i.e., the count for each pair)."
   ]
  },
  {
   "cell_type": "code",
   "execution_count": 246,
   "metadata": {},
   "outputs": [
    {
     "name": "stdout",
     "output_type": "stream",
     "text": [
      "The frequent pairs with thier counts are:\n",
      " {(1, 2): 35, (1, 3): 30, (1, 4): 31, (1, 5): 31, (1, 6): 24, (1, 14): 36, (2, 3): 27, (2, 4): 28, (2, 5): 27, (2, 6): 22, (2, 14): 32, (3, 4): 24, (3, 5): 23, (3, 6): 20, (3, 14): 27, (4, 5): 25, (4, 6): 20, (4, 14): 28, (5, 6): 21, (5, 14): 28, (6, 14): 21, (1, 15): 24, (2, 15): 21, (14, 15): 22}\n",
      "The memory used with the apriori approach is (bytes):  1176\n"
     ]
    }
   ],
   "source": [
    "freq_pair, apriori_size = createL2(dataset, freq_item_keys, support)\n",
    "print(\"The frequent pairs with thier counts are:\\n\", freq_pair)\n",
    "\n",
    "print(\"The memory used with the apriori approach is (bytes): \", apriori_size)\n",
    "# It saves space in respect to the Naive approach"
   ]
  },
  {
   "cell_type": "markdown",
   "metadata": {},
   "source": [
    "## Third pass\n",
    "\n",
    "Now it is possible to find the triples, which is left as exercise.\n",
    "\n",
    "Triples (**C3**) can be build starting, as input, from L1 and L2 (only the keys, not the whole dictionary).\n",
    "\n",
    "```python\n",
    "def createL3(dataset, L2, L1, support):\n",
    "    freq_itemset = {}\n",
    "    for basket in dataset:\n",
    "        # remove non freq. items\n",
    "        filtered_basket = []\n",
    "        for item in basket:\n",
    "            if item in L1:\n",
    "                filtered_basket.append(item)\n",
    "        # generate triples, but only if the \n",
    "        # possible couples are frequent \n",
    "        ...         \n",
    "    # remove non frequent itemset; \n",
    "    ...\n",
    "    return freq_itemset\n",
    "```"
   ]
  },
  {
   "cell_type": "markdown",
   "metadata": {},
   "source": [
    "### Question  Q1\n",
    "<div class=\"alert alert-info\">\n",
    "Using the skeleton provided above, implement the function createL3( )\n",
    "</div>"
   ]
  },
  {
   "cell_type": "code",
   "execution_count": 247,
   "metadata": {},
   "outputs": [],
   "source": [
    "def createL3(dataset, L2, L1, support):\n",
    "    # Dict\n",
    "    freq_trips = {}\n",
    "    for basket in dataset:\n",
    "        # Filet non freq. items\n",
    "        filtered_basket = []\n",
    "        for item in basket:\n",
    "            if item in L1:\n",
    "                filtered_basket.append(item)\n",
    "        sorted(filtered_basket)\n",
    "        len_basket = len(filtered_basket)\n",
    "        # Filter non freq. pairs\n",
    "        filtered_basket_pairs = []\n",
    "        for i in range(len_basket):\n",
    "            for j in range(i+1, len_basket):\n",
    "                pair_tuple = (filtered_basket[i], filtered_basket[j])\n",
    "                if pair_tuple in L2:\n",
    "                    filtered_basket_pairs.append(pair_tuple)\n",
    "        sorted(filtered_basket_pairs)\n",
    "        len_basket_pairs = len(filtered_basket_pairs)\n",
    "        # Generate triplets\n",
    "        for i in range(len_basket_pairs):\n",
    "            for j in range(len_basket):\n",
    "                    trip_tuple = (filtered_basket_pairs[i], filtered_basket[j])\n",
    "                    if trip_tuple in freq_trips:\n",
    "                        freq_trips[trip_tuple] += 1\n",
    "                    else:\n",
    "                        freq_trips[trip_tuple] = 1\n",
    "\n",
    "    support = support * len(dataset) # len(data) returns the number of baskets\n",
    "    delete_pairs = [pair for pair in freq_trips if freq_trips[pair] < support]\n",
    "    for pair in delete_pairs: \n",
    "        del freq_trips[pair]\n",
    "\n",
    "    return freq_trips"
   ]
  },
  {
   "cell_type": "code",
   "execution_count": 248,
   "metadata": {},
   "outputs": [
    {
     "name": "stdout",
     "output_type": "stream",
     "text": [
      "The frequent pairs with thier counts are:\n",
      " {((1, 2), 1): 35, ((1, 2), 2): 35, ((1, 2), 3): 27, ((1, 2), 4): 28, ((1, 2), 5): 27, ((1, 2), 6): 22, ((1, 2), 14): 32, ((1, 3), 1): 30, ((1, 3), 2): 27, ((1, 3), 3): 30, ((1, 3), 4): 24, ((1, 3), 5): 23, ((1, 3), 6): 20, ((1, 3), 14): 27, ((1, 4), 1): 31, ((1, 4), 2): 28, ((1, 4), 3): 24, ((1, 4), 4): 31, ((1, 4), 5): 25, ((1, 4), 6): 20, ((1, 4), 14): 28, ((1, 5), 1): 31, ((1, 5), 2): 27, ((1, 5), 3): 23, ((1, 5), 4): 25, ((1, 5), 5): 31, ((1, 5), 6): 21, ((1, 5), 14): 28, ((1, 6), 1): 24, ((1, 6), 2): 22, ((1, 6), 3): 20, ((1, 6), 4): 20, ((1, 6), 5): 21, ((1, 6), 6): 24, ((1, 6), 14): 21, ((1, 14), 1): 36, ((1, 14), 2): 32, ((1, 14), 3): 27, ((1, 14), 4): 28, ((1, 14), 5): 28, ((1, 14), 6): 21, ((1, 14), 14): 36, ((2, 3), 1): 27, ((2, 3), 2): 27, ((2, 3), 3): 27, ((2, 3), 4): 22, ((2, 3), 5): 20, ((2, 3), 14): 24, ((2, 4), 1): 28, ((2, 4), 2): 28, ((2, 4), 3): 22, ((2, 4), 4): 28, ((2, 4), 5): 22, ((2, 4), 14): 25, ((2, 5), 1): 27, ((2, 5), 2): 27, ((2, 5), 3): 20, ((2, 5), 4): 22, ((2, 5), 5): 27, ((2, 5), 14): 24, ((2, 6), 1): 22, ((2, 6), 2): 22, ((2, 6), 6): 22, ((2, 14), 1): 32, ((2, 14), 2): 32, ((2, 14), 3): 24, ((2, 14), 4): 25, ((2, 14), 5): 24, ((2, 14), 14): 32, ((3, 4), 1): 24, ((3, 4), 2): 22, ((3, 4), 3): 24, ((3, 4), 4): 24, ((3, 4), 14): 21, ((3, 5), 1): 23, ((3, 5), 2): 20, ((3, 5), 3): 23, ((3, 5), 5): 23, ((3, 5), 14): 20, ((3, 6), 1): 20, ((3, 6), 3): 20, ((3, 6), 6): 20, ((3, 14), 1): 27, ((3, 14), 2): 24, ((3, 14), 3): 27, ((3, 14), 4): 21, ((3, 14), 5): 20, ((3, 14), 14): 27, ((4, 5), 1): 25, ((4, 5), 2): 22, ((4, 5), 4): 25, ((4, 5), 5): 25, ((4, 5), 14): 22, ((4, 6), 1): 20, ((4, 6), 4): 20, ((4, 6), 6): 20, ((4, 14), 1): 28, ((4, 14), 2): 25, ((4, 14), 3): 21, ((4, 14), 4): 28, ((4, 14), 5): 22, ((4, 14), 14): 28, ((5, 6), 1): 21, ((5, 6), 5): 21, ((5, 6), 6): 21, ((5, 14), 1): 28, ((5, 14), 2): 24, ((5, 14), 3): 20, ((5, 14), 4): 22, ((5, 14), 5): 28, ((5, 14), 14): 28, ((6, 14), 1): 21, ((6, 14), 6): 21, ((6, 14), 14): 21, ((1, 2), 15): 21, ((1, 14), 15): 22, ((1, 15), 1): 24, ((1, 15), 2): 21, ((1, 15), 14): 22, ((1, 15), 15): 24, ((2, 15), 1): 21, ((2, 15), 2): 21, ((2, 15), 15): 21, ((14, 15), 1): 22, ((14, 15), 14): 22, ((14, 15), 15): 22}\n"
     ]
    }
   ],
   "source": [
    "freq_pair_keys = sorted(list(freq_pair.keys()))\n",
    "\n",
    "freq_trip = createL3(dataset, freq_pair_keys, freq_item_keys, support)\n",
    "print(\"The frequent pairs with thier counts are:\\n\", freq_trip)"
   ]
  },
  {
   "cell_type": "markdown",
   "metadata": {},
   "source": [
    "### Question  Q2\n",
    "<div class=\"alert alert-info\">\n",
    "Find the triples and the amount of memory used to compute such a result\n",
    "</div>"
   ]
  },
  {
   "cell_type": "code",
   "execution_count": 249,
   "metadata": {},
   "outputs": [],
   "source": [
    "import sys\n",
    "\n",
    "def createL3(dataset, L2, L1, support):\n",
    "    # Dict\n",
    "    freq_trips = {}\n",
    "    for basket in dataset:\n",
    "        # Filet non freq. items\n",
    "        filtered_basket = []\n",
    "        for item in basket:\n",
    "            if item in L1:\n",
    "                filtered_basket.append(item)\n",
    "        sorted(filtered_basket)\n",
    "        len_basket = len(filtered_basket)\n",
    "        # Filter non freq. pairs\n",
    "        filtered_basket_pairs = []\n",
    "        for i in range(len_basket):\n",
    "            for j in range(i+1, len_basket):\n",
    "                pair_tuple = (filtered_basket[i], filtered_basket[j])\n",
    "                if pair_tuple in L2:\n",
    "                    filtered_basket_pairs.append(pair_tuple)\n",
    "        sorted(filtered_basket_pairs)\n",
    "        len_basket_pairs = len(filtered_basket_pairs)\n",
    "        # Generate triplets\n",
    "        for i in range(len_basket_pairs):\n",
    "            for j in range(len_basket):\n",
    "                    trip_tuple = (filtered_basket_pairs[i], filtered_basket[j])\n",
    "                    if trip_tuple in freq_trips:\n",
    "                        freq_trips[trip_tuple] += 1\n",
    "                    else:\n",
    "                        freq_trips[trip_tuple] = 1\n",
    "\n",
    "    # This is the maximum space used by this method: amount of memory used to count how many possible frequent pairs there are\n",
    "    byte_size = sys.getsizeof(freq_trips)\n",
    "\n",
    "    support = support * len(dataset) # len(data) returns the number of baskets\n",
    "    delete_pairs = [pair for pair in freq_trips if freq_trips[pair] < support]\n",
    "    for pair in delete_pairs: \n",
    "        del freq_trips[pair]\n",
    "    return byte_size"
   ]
  },
  {
   "cell_type": "code",
   "execution_count": 250,
   "metadata": {},
   "outputs": [
    {
     "name": "stdout",
     "output_type": "stream",
     "text": [
      "The memory used with the apriori approach is (bytes):  9312\n"
     ]
    }
   ],
   "source": [
    "apriori_size = createL3(dataset, freq_pair_keys, freq_item_keys, support)\n",
    "print(\"The memory used with the apriori approach is (bytes): \", apriori_size)"
   ]
  }
 ],
 "metadata": {
  "kernelspec": {
   "display_name": "Python 3",
   "language": "python",
   "name": "python3"
  },
  "language_info": {
   "codemirror_mode": {
    "name": "ipython",
    "version": 3
   },
   "file_extension": ".py",
   "mimetype": "text/x-python",
   "name": "python",
   "nbconvert_exporter": "python",
   "pygments_lexer": "ipython3",
   "version": "3.10.2"
  }
 },
 "nbformat": 4,
 "nbformat_minor": 2
}
