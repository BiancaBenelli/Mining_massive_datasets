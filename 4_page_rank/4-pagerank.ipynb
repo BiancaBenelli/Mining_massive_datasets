{
 "cells": [
  {
   "cell_type": "markdown",
   "metadata": {},
   "source": [
    "# Basic PageRank\n",
    "\n",
    "In this notebook we will see a basic implementation of the PageRank algorithm, along with some considerations on the complexity. The graphs has been taken from the SNAP (Stanford Large Network Dataset) collection:\n",
    "\n",
    "https://snap.stanford.edu/data/\n",
    "\n",
    "We will start with a small directed graph called \"email-Eu-core network\" (https://snap.stanford.edu/data/email-Eu-core.html). It represents the emails sent from user  *i*  to user  *j* (during an observation period). In case of emails with multiple recipients, there is an edge for each recipient. The graph contains 1005 nodes and 25571 edges.\n",
    "\n",
    "The format is very simple: each line contains an edge **from** one node **to** another node \n",
    "```text\n",
    "0 1\n",
    "2 3\n",
    "2 4\n",
    "5 6\n",
    "5 7\n",
    "8 9\n",
    "10 11\n",
    "```\n",
    "\n",
    "We first load the data as a list of lists (each line becomes a list with 2 elements), then we will transform the data into a matrix and work with the matrix formulation. After that, we  will transform the data into adjacency list, to improve the efficiency and we reformulate the PageRank accordingly. "
   ]
  },
  {
   "cell_type": "markdown",
   "metadata": {},
   "source": [
    "## Loading the data\n",
    "\n",
    "\n",
    "As usual, we first define the function to load the data, adapting such a function to the specific file input format.\n",
    "\n",
    "In particular, we are going to assign to nodes progressive numbers, so we do not need to rely on the numbering in the file itself (and the node id can be used as matrix index)."
   ]
  },
  {
   "cell_type": "code",
   "execution_count": null,
   "metadata": {},
   "outputs": [],
   "source": [
    "def load_data(filename):\n",
    "    input_lines = []\n",
    "    raw_lines = open(filename, 'r').read().splitlines()\n",
    "    num_nodes = 0\n",
    "    nodes = {}\n",
    "    for line in raw_lines:\n",
    "        line_content = line.split()\n",
    "        from_id = int(line_content[0])\n",
    "        to_id = int(line_content[1])\n",
    "        if from_id not in nodes:\n",
    "            nodes[from_id] = num_nodes\n",
    "            num_nodes += 1\n",
    "        if to_id not in nodes:\n",
    "            nodes[to_id] = num_nodes\n",
    "            num_nodes += 1\n",
    "        input_lines.append([nodes[from_id], nodes[to_id]])\n",
    "    return input_lines, num_nodes"
   ]
  },
  {
   "cell_type": "markdown",
   "metadata": {},
   "source": [
    "The input file containing the dataset is called \"4-email-Eu-core.txt\".\n",
    "\n",
    "On Colab, remember to mount your Drive\n",
    "```python\n",
    "from google.colab import drive\n",
    "drive.mount('/content/drive')\n",
    "input_file = \"/content/drive/My Drive/...\"\n",
    "```\n",
    "Let's load our dataset and see its initial content:"
   ]
  },
  {
   "cell_type": "code",
   "execution_count": null,
   "metadata": {},
   "outputs": [],
   "source": [
    "input_file = \"./4-email-Eu-core.txt\"\n",
    "\n",
    "input_edges, num_nodes = load_data(input_file)\n",
    "\n",
    "print(\"\\nThe dataset contains\", num_nodes, \"nodes and\", \n",
    "      len(input_edges),\"edges.\\n\")\n",
    "print(\"The first five edges are:\", input_edges[:5],\"\\n\")"
   ]
  },
  {
   "cell_type": "markdown",
   "metadata": {},
   "source": [
    "## Matrix formulation\n",
    "\n",
    "Building and maintaining in memory the full adjacency matrix is inefficient, since the matrix is sparse. But working with a matrix is more intuitive, therefore we will start with this approach. \n",
    "\n",
    "As done before, we will use the Numpy library for handling matrixes. We first fill the matrix with \"1\" if there is an edge, then we will transform the matrix into a column stochastic one."
   ]
  },
  {
   "cell_type": "code",
   "execution_count": null,
   "metadata": {},
   "outputs": [],
   "source": [
    "import numpy as np\n",
    "\n",
    "# create an NxN matrix of zeros, where N = number of nodes \n",
    "matrix_nodes = np.zeros((num_nodes, num_nodes))\n",
    "\n",
    "# Set element i,j to \"1\" if there is an edge from j to i\n",
    "for edge in input_edges:\n",
    "    from_id = edge[0]\n",
    "    to_id = edge[1]\n",
    "    matrix_nodes[to_id, from_id] = 1\n",
    "    \n",
    "# compute the \"sparsity\", i.e., percentage of non-zero cells\n",
    "sparsity = 100*float(np.count_nonzero(matrix_nodes))/float(num_nodes*num_nodes)\n",
    "print(\"Sparsity: %.2f%%\" % (sparsity))\n",
    "\n",
    "# Show a snippet of the matrix\n",
    "matrix_nodes"
   ]
  },
  {
   "cell_type": "markdown",
   "metadata": {},
   "source": [
    "We normalize each element with the sum of the column. If the column has no entry (i.e., no outgoing links, it's a dead-end), we fill each element with 1/N."
   ]
  },
  {
   "cell_type": "code",
   "execution_count": null,
   "metadata": {},
   "outputs": [],
   "source": [
    "for col in range(num_nodes):\n",
    "    degree = np.sum(matrix_nodes[:,col])\n",
    "    if degree > 0:\n",
    "        matrix_nodes[:,col] *= 1.0/degree\n",
    "    else:\n",
    "        matrix_nodes[:,col] = 1.0/num_nodes\n",
    "\n",
    "# Show a snippet of the normalized matrix\n",
    "matrix_nodes"
   ]
  },
  {
   "cell_type": "markdown",
   "metadata": {},
   "source": [
    "## Preliminary questions\n",
    "\n",
    "### Question  Q1\n",
    "<div class=\"alert alert-info\">\n",
    "Consider the matrix before the normalization: compute the number of dead-end nodes (and its percentage with respect to the total number of nodes).\n",
    "</div>"
   ]
  },
  {
   "cell_type": "code",
   "execution_count": null,
   "metadata": {},
   "outputs": [],
   "source": [
    "# your answer"
   ]
  },
  {
   "cell_type": "markdown",
   "metadata": {},
   "source": [
    "### Question  Q2\n",
    "<div class=\"alert alert-info\">\n",
    "Compute the sparsity of the matrix (before and after normalization), i.e., the ratio between the non-zero elements and the total number of elements.\n",
    "</div>"
   ]
  },
  {
   "cell_type": "code",
   "execution_count": null,
   "metadata": {},
   "outputs": [],
   "source": [
    "# your answer"
   ]
  },
  {
   "cell_type": "markdown",
   "metadata": {},
   "source": [
    "### Question  Q3\n",
    "<div class=\"alert alert-info\">\n",
    "Compute the amount of memory (bytes) required to store the matrix, before and after the normalization.\n",
    "</div>"
   ]
  },
  {
   "cell_type": "code",
   "execution_count": null,
   "metadata": {},
   "outputs": [],
   "source": [
    "# your answer"
   ]
  },
  {
   "cell_type": "markdown",
   "metadata": {},
   "source": [
    "### Question  Q4\n",
    "<div class=\"alert alert-info\">\n",
    "Compute some basic statistics about the graph, such as:\n",
    "    \n",
    "- minimum, maximum and average outdegree (number of outgoing links);\n",
    "- outdegree distribution (percentage of nodes with outdegree 0, 1, 2, 3, ...). \n",
    "- minimum, maximum and average indegree (number of incoming links);\n",
    "- indegree distribution (percentage of nodes with indegree 0, 1, 2, 3, ...). \n",
    "</div>"
   ]
  },
  {
   "cell_type": "code",
   "execution_count": null,
   "metadata": {},
   "outputs": [],
   "source": [
    "# your answer"
   ]
  },
  {
   "cell_type": "markdown",
   "metadata": {},
   "source": [
    "# Pagerank (matrix formulation)\n",
    "\n",
    "We are now ready to compute the Pagerank with the power iteration approach. The inputs are:\n",
    "\n",
    "- The adjacency matrix;\n",
    "- The teleport parameter beta;\n",
    "- The target error;\n",
    "- The maximum number of iterations.\n"
   ]
  },
  {
   "cell_type": "code",
   "execution_count": null,
   "metadata": {},
   "outputs": [],
   "source": [
    "def matrix_pagerank(input_matrix, beta, target_error, max_iterations):\n",
    "    # infer the number of nodes from the matrix size\n",
    "    num_nodes = input_matrix.shape[0]\n",
    "    # initialize the ranking vector\n",
    "    rank_prev = np.full((num_nodes), 1.0/num_nodes)\n",
    "    # iterate at most \"max_iterations\" times\n",
    "    for curr_iteration in range(max_iterations):\n",
    "        rank_new = beta*input_matrix.dot(rank_prev) + (1.0-beta)/num_nodes\n",
    "        # comute the error\n",
    "        curr_err = np.sum(abs(rank_new - rank_prev))\n",
    "        # for debugging: print the error at each iteration \n",
    "        #print(\"iteration:\", curr_iteration, \", err:\", curr_err)\n",
    "        if curr_err < target_error:\n",
    "            break\n",
    "        # note the \".copy()\", otherwise they end up to be the same vector\n",
    "        rank_prev = rank_new.copy()\n",
    "    return rank_new, curr_err, curr_iteration"
   ]
  },
  {
   "cell_type": "markdown",
   "metadata": {},
   "source": [
    "We run the PageRank with the following parameters:"
   ]
  },
  {
   "cell_type": "code",
   "execution_count": null,
   "metadata": {},
   "outputs": [],
   "source": [
    "beta = 0.8\n",
    "error = 0.0001\n",
    "max_iterations = 30\n",
    "\n",
    "pg_nodes, err, iterations = matrix_pagerank(matrix_nodes, beta, error, max_iterations)\n",
    "print(\"\\nComputed\", iterations, \"iterations with final error\", err, \"\\n\")\n",
    "print(pg_nodes)"
   ]
  },
  {
   "cell_type": "markdown",
   "metadata": {},
   "source": [
    "### Question  Q5\n",
    "<div class=\"alert alert-info\">\n",
    "Modify the function so that the error is not an absolute value (such as 0.0001), but a relative one for each node rank. For instance, one could stop the iterations if, for each node, the variation of the rank is below 1% with respect to the previous rank.\n",
    "</div>"
   ]
  },
  {
   "cell_type": "markdown",
   "metadata": {},
   "source": [
    "## Adjacency list formulation\n",
    "\n",
    "Instead of a matrix, we maintain a data structure (dicionary) in which, for each node (key), we have a list of neighbors (value)."
   ]
  },
  {
   "cell_type": "code",
   "execution_count": null,
   "metadata": {},
   "outputs": [],
   "source": [
    "adj_nodes = {}\n",
    "for edge in input_edges:\n",
    "    from_id = edge[0]\n",
    "    to_id = edge[1]\n",
    "    if from_id not in adj_nodes:\n",
    "        adj_nodes[from_id] = [to_id]\n",
    "    else:\n",
    "        adj_nodes[from_id].append(to_id)\n",
    "\n",
    "# For simplicity, we sort each value (not necessary, but better for visualization)\n",
    "for node in adj_nodes:\n",
    "    adj_nodes[node].sort()\n",
    "\n",
    "# Show the neighbors of the first node\n",
    "print(adj_nodes[0])"
   ]
  },
  {
   "cell_type": "markdown",
   "metadata": {},
   "source": [
    "We can now change our Pagerank formulation considering as input the adjacency list. Note that, differently from the matrix, we need to explicitly indicate the number of nodes, beacuse nodes with no outgoing links (dead-ends) do not appear (as key) in the adjacency list and we cannot not infer from the size of the list the number of nodes.\n",
    "\n",
    "Note also that we evaluate at each step how much ranking has been lost (due to dead-ends), and we reintegrate it."
   ]
  },
  {
   "cell_type": "code",
   "execution_count": null,
   "metadata": {},
   "outputs": [],
   "source": [
    "def adj_pagerank(adj_list, num_nodes, beta, target_error, max_iterations):\n",
    "    # initialize the ranking vector\n",
    "    rank_prev = np.full((num_nodes), 1.0/num_nodes)\n",
    "    # iterate at most \"max_iterations\" times\n",
    "    for curr_iteration in range(max_iterations):\n",
    "        # since rank_new is incrementally build every time, it has to be initialized\n",
    "        rank_new = np.zeros((num_nodes))\n",
    "        # the leaked ranking is found decrementally\n",
    "        leaked = 1.0\n",
    "        for node in adj_list:\n",
    "            # we derive the outdegree from the list size\n",
    "            outdegree = len(adj_list[node])\n",
    "            leaked -= rank_prev[node]\n",
    "            for neigh in adj_list[node]:\n",
    "                rank_new[neigh] += beta*rank_prev[node]/outdegree\n",
    "        # add the teleport (1-beta) and the leaked values (times beta)\n",
    "        rank_new += (1.0-beta+beta*leaked)/num_nodes\n",
    "        # compute the error\n",
    "        curr_err = np.sum(abs(rank_new - rank_prev))\n",
    "        if curr_err < target_error:\n",
    "            break\n",
    "        rank_prev = rank_new.copy()\n",
    "    return rank_new, curr_err, curr_iteration"
   ]
  },
  {
   "cell_type": "markdown",
   "metadata": {},
   "source": [
    "Let's try it and compare with the results obtained with the matrix formulation:\n"
   ]
  },
  {
   "cell_type": "code",
   "execution_count": null,
   "metadata": {},
   "outputs": [],
   "source": [
    "pg_nodes_adj, err, iterations = adj_pagerank(adj_nodes, num_nodes, beta, error, max_iterations)\n",
    "print(\"\\nComputed\", iterations, \"iterations with final error\", err, \"\\n\")\n",
    "print(pg_nodes_adj)\n",
    "\n",
    "print(\"\\nThe sum of the element-wise difference with the previous formulation is:\\n\", \n",
    "      np.sum(abs(pg_nodes_adj - pg_nodes)), \"\\n\")"
   ]
  },
  {
   "cell_type": "markdown",
   "metadata": {},
   "source": [
    "## Additional questions\n",
    "\n",
    "### Question  Q6\n",
    "<div class=\"alert alert-info\">\n",
    "Compute the amount of memory (bytes) required to store the adjacency list, and compare it with the memory used by the matrix. \n",
    "</div>"
   ]
  },
  {
   "cell_type": "code",
   "execution_count": null,
   "metadata": {},
   "outputs": [],
   "source": [
    "# your answer here"
   ]
  },
  {
   "cell_type": "markdown",
   "metadata": {},
   "source": [
    "### Question  Q7\n",
    "<div class=\"alert alert-info\">\n",
    "Find the top 5 ranked nodes, the bottom 5 ranked nodes, and compute the ranking range (difference between the highest and lowest ranking).\n",
    "</div>"
   ]
  },
  {
   "cell_type": "code",
   "execution_count": null,
   "metadata": {},
   "outputs": [],
   "source": [
    "# your answer here"
   ]
  },
  {
   "cell_type": "markdown",
   "metadata": {},
   "source": [
    "### Question  Q8\n",
    "<div class=\"alert alert-info\">\n",
    "Divide the different ranking values into ranges (with constant size, or exponentially increasing size) and show the percentage of nodes in each range. \n",
    "    \n",
    "Compare the distribution with the indegree distribution computed before.\n",
    "</div>"
   ]
  },
  {
   "cell_type": "code",
   "execution_count": null,
   "metadata": {},
   "outputs": [],
   "source": [
    "# your answer here"
   ]
  },
  {
   "cell_type": "markdown",
   "metadata": {},
   "source": [
    "### Question  Q9\n",
    "<div class=\"alert alert-info\">\n",
    "Analyze a larger graph (file \"4-soc-Epinions1.txt\"), and in particular:\n",
    "    \n",
    "- How many nodes and edges does it have?\n",
    "- Is your system able to handle the PageRank computation using the matrix formulation?\n",
    "- Compute the PageRank with the adjancency list formulation.\n",
    "- Reply to Q7-Q8 for this graph.\n",
    "</div>"
   ]
  },
  {
   "cell_type": "code",
   "execution_count": null,
   "metadata": {},
   "outputs": [],
   "source": [
    "# your answer here"
   ]
  },
  {
   "cell_type": "markdown",
   "metadata": {},
   "source": [
    "### Question  Q10\n",
    "<div class=\"alert alert-info\">\n",
    "Can you reformulate the PageRank algorithm assuming to have the adjacency list of the incoming links? \n",
    "    \n",
    "Does this formulation has benefits?\n",
    "</div>"
   ]
  },
  {
   "cell_type": "code",
   "execution_count": null,
   "metadata": {},
   "outputs": [],
   "source": [
    "# your answer here"
   ]
  }
 ],
 "metadata": {
  "kernelspec": {
   "display_name": "Python 3",
   "language": "python",
   "name": "python3"
  },
  "language_info": {
   "codemirror_mode": {
    "name": "ipython",
    "version": 3
   },
   "file_extension": ".py",
   "mimetype": "text/x-python",
   "name": "python",
   "nbconvert_exporter": "python",
   "pygments_lexer": "ipython3",
   "version": "3.7.3"
  }
 },
 "nbformat": 4,
 "nbformat_minor": 2
}
