{
 "cells": [
  {
   "cell_type": "code",
   "execution_count": 166,
   "metadata": {},
   "outputs": [],
   "source": [
    "import csv\n",
    "with open('edges_small.csv') as f:\n",
    "    data=[tuple(line) for line in csv.reader(f)]"
   ]
  },
  {
   "cell_type": "code",
   "execution_count": 171,
   "metadata": {},
   "outputs": [],
   "source": [
    "# Create a list of tuples (considering the weights too)\n",
    "def create_w_edges(data):\n",
    "    my_edges = []\n",
    "    for i in range(len(data)):\n",
    "        tup = (int(data[i][0]), int(data[i][1]), int(data[i][2]))\n",
    "        my_edges.append(tup)\n",
    "    return my_edges\n",
    "\n",
    "w_edges = create_w_edges(data)"
   ]
  },
  {
   "cell_type": "code",
   "execution_count": 173,
   "metadata": {},
   "outputs": [
    {
     "data": {
      "text/plain": [
       "'Hub Scores: '"
      ]
     },
     "metadata": {},
     "output_type": "display_data"
    },
    {
     "data": {
      "text/plain": [
       "{0: 0.03913491152442465,\n",
       " 1: 0.03626913005994525,\n",
       " 2: 0.04638460654920418,\n",
       " 3: 0.06051667164584876,\n",
       " 4: 0.06618515961140625,\n",
       " 5: 0.06548197389420855,\n",
       " 6: 0.030700060735636206,\n",
       " 7: 0.04298078166077234,\n",
       " 8: 0.04519869777517919,\n",
       " 9: 0.03242170405877933,\n",
       " 10: 0.04114058459365997,\n",
       " 11: 0.03026901765813862,\n",
       " 12: 0.04080044482838975,\n",
       " 13: 0.026610099431168974,\n",
       " 14: 0.027506558021951892,\n",
       " 15: 0.007579095085543466,\n",
       " 16: 0.010745970793998501,\n",
       " 17: 0.0013703933616359902,\n",
       " 18: 0.011977054441931432,\n",
       " 19: 0.0400201413852405,\n",
       " 20: 0.04376061302438623,\n",
       " 21: 0.04533431738852838,\n",
       " 22: 0.037048470405372215,\n",
       " 23: 0.039891634197359555,\n",
       " 24: 0.02496075804453762,\n",
       " 25: 0.044931817056675066,\n",
       " 26: 0.04432938626374707,\n",
       " 27: 0.008824184355907549,\n",
       " 28: 0.007625762146422688}"
      ]
     },
     "metadata": {},
     "output_type": "display_data"
    },
    {
     "data": {
      "text/plain": [
       "'Authority Scores: '"
      ]
     },
     "metadata": {},
     "output_type": "display_data"
    },
    {
     "data": {
      "text/plain": [
       "{0: 0.02900546101134889,\n",
       " 1: 0.04073768774470634,\n",
       " 2: 0.03818397979787486,\n",
       " 3: 0.018645344125254298,\n",
       " 4: 0.026850657995550708,\n",
       " 5: 0.03712215420813064,\n",
       " 6: 0.025678579573301986,\n",
       " 7: 0.05336521159468068,\n",
       " 8: 0.052043778229837453,\n",
       " 9: 0.039091965750992316,\n",
       " 10: 0.05154052939376283,\n",
       " 11: 0.04815145262263133,\n",
       " 12: 0.04629375606231193,\n",
       " 13: 0.049419950549883636,\n",
       " 14: 0.044522080089537695,\n",
       " 15: 0.020017457521582554,\n",
       " 16: 0.02188988761782332,\n",
       " 17: 0.018468976649383195,\n",
       " 18: 0.020913903769660555,\n",
       " 19: 0.04708105922662106,\n",
       " 20: 0.04650654964705153,\n",
       " 21: 0.006376838451997764,\n",
       " 22: 0.04734312107042372,\n",
       " 23: 0.027463153501862743,\n",
       " 24: 0.039958166430330094,\n",
       " 25: 0.03978602993183078,\n",
       " 26: 0.02112263651690619,\n",
       " 27: 0.01991789765250396,\n",
       " 28: 0.022501733262216835}"
      ]
     },
     "metadata": {},
     "output_type": "display_data"
    },
    {
     "data": {
      "text/plain": [
       "dict"
      ]
     },
     "execution_count": 173,
     "metadata": {},
     "output_type": "execute_result"
    },
    {
     "data": {
      "text/plain": [
       "<Figure size 1000x1000 with 0 Axes>"
      ]
     },
     "metadata": {},
     "output_type": "display_data"
    }
   ],
   "source": [
    "import networkx as nx\n",
    "import matplotlib.pyplot as plt\n",
    "  \n",
    "G = nx.DiGraph()\n",
    "  \n",
    "G.add_weighted_edges_from(w_edges)\n",
    "  \n",
    "plt.figure(figsize =(10, 10))\n",
    "#nx.draw_circular(G, with_labels = True)\n",
    "  \n",
    "hubs, authorities = nx.hits(G, max_iter = 100, normalized = True, tol=1e-9)\n",
    "  \n",
    "display(\"Hub Scores: \", hubs)\n",
    "display(\"Authority Scores: \", authorities)\n"
   ]
  },
  {
   "cell_type": "code",
   "execution_count": null,
   "metadata": {},
   "outputs": [],
   "source": [
    "temp = [tuple(sorted(sub)) for sub in edges]\n",
    "res = list(set(temp))"
   ]
  },
  {
   "cell_type": "code",
   "execution_count": null,
   "metadata": {},
   "outputs": [],
   "source": []
  }
 ],
 "metadata": {
  "kernelspec": {
   "display_name": "Python 3",
   "language": "python",
   "name": "python3"
  },
  "language_info": {
   "codemirror_mode": {
    "name": "ipython",
    "version": 3
   },
   "file_extension": ".py",
   "mimetype": "text/x-python",
   "name": "python",
   "nbconvert_exporter": "python",
   "pygments_lexer": "ipython3",
   "version": "3.10.2"
  },
  "orig_nbformat": 4
 },
 "nbformat": 4,
 "nbformat_minor": 2
}
